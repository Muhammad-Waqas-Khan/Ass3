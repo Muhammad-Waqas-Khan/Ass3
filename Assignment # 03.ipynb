{
 "cells": [
  {
   "cell_type": "code",
   "execution_count": 7,
   "id": "a8dcc2f8",
   "metadata": {},
   "outputs": [
    {
     "name": "stdout",
     "output_type": "stream",
     "text": [
      "Twinkle, twinkle, little star,\n",
      "         How I wonder what you are!\n",
      "                 Up above the world so high,\n",
      "                 Like a diamond in the sky\n",
      "Twinkle, twinkle, little star,\n",
      "         How I wonder what you are!\n"
     ]
    }
   ],
   "source": [
    "# \"Question 1\"\n",
    "print(\"Twinkle, twinkle, little star,\");\n",
    "print(\"         How I wonder what you are!\");\n",
    "print(\"                 Up above the world so high,\");\n",
    "print(\"                 Like a diamond in the sky\");\n",
    "print(\"Twinkle, twinkle, little star,\");\n",
    "print(\"         How I wonder what you are!\")\n",
    "      "
   ]
  },
  {
   "cell_type": "code",
   "execution_count": 10,
   "id": "728668b0",
   "metadata": {},
   "outputs": [
    {
     "name": "stdout",
     "output_type": "stream",
     "text": [
      "1) Download anaconda from internet\n",
      "2) Install anaconda in your computer\n",
      "3) Launch Jupyter Notebook after opening anaconda3\n",
      "4) Open New file from top right of jupyter notebook\n"
     ]
    }
   ],
   "source": [
    "# Question 2\n",
    "print(\"1) Download anaconda from internet\");\n",
    "print(\"2) Install anaconda in your computer\");\n",
    "print(\"3) Launch Jupyter Notebook after opening anaconda3\");\n",
    "print(\"4) Open New file from top right of jupyter notebook\");\n",
    "      "
   ]
  },
  {
   "cell_type": "code",
   "execution_count": 11,
   "id": "6d1f7562",
   "metadata": {},
   "outputs": [
    {
     "name": "stdout",
     "output_type": "stream",
     "text": [
      "Current date and time : \n",
      "2021-10-24 16:09:12\n"
     ]
    }
   ],
   "source": [
    "# Question 3\n",
    "import datetime\n",
    "now = datetime.datetime.now()\n",
    "print (\"Current date and time : \")\n",
    "print (now.strftime(\"%Y-%m-%d %H:%M:%S\"))"
   ]
  },
  {
   "cell_type": "code",
   "execution_count": 12,
   "id": "aadcfba9",
   "metadata": {},
   "outputs": [
    {
     "name": "stdout",
     "output_type": "stream",
     "text": [
      "Enter Radius : 2\n",
      "12.571428571428571\n"
     ]
    }
   ],
   "source": [
    "# Question 4\n",
    "r = int(input(\"Enter Radius : \"));\n",
    "pi = 22 / 7 ;\n",
    "Area = r * r * pi;\n",
    "print(Area);\n"
   ]
  },
  {
   "cell_type": "code",
   "execution_count": 3,
   "id": "51e77be2",
   "metadata": {},
   "outputs": [
    {
     "name": "stdout",
     "output_type": "stream",
     "text": [
      "Enter first Name : waqas\n",
      "Enter Last Name : khan\n",
      "waqaskhan\n"
     ]
    }
   ],
   "source": [
    "# Question 5\n",
    "a = input(\"Enter first Name : \");\n",
    "b = input(\"Enter Last Name : \");\n",
    "c = a + b;\n",
    "print(c);"
   ]
  },
  {
   "cell_type": "code",
   "execution_count": 4,
   "id": "507ce884",
   "metadata": {},
   "outputs": [
    {
     "name": "stdout",
     "output_type": "stream",
     "text": [
      "Enter first Number : 6\n",
      "Enter Second Number : 18\n",
      "24\n"
     ]
    }
   ],
   "source": [
    "# Question 6\n",
    "f = int(input(\"Enter first Number : \"));\n",
    "z = int(input(\"Enter Second Number : \"));\n",
    "y = f + z;\n",
    "print(y);"
   ]
  },
  {
   "cell_type": "code",
   "execution_count": 1,
   "id": "1f9033f4",
   "metadata": {},
   "outputs": [
    {
     "name": "stdout",
     "output_type": "stream",
     "text": [
      "Enter English MArks  62\n",
      "Enter islamiat MArks  45\n",
      "Enter maths MArks  85\n",
      "Enter Science MArks  75\n",
      "Enter Urdu MArks  63\n",
      "66.0\n",
      "Grade B\n"
     ]
    }
   ],
   "source": [
    "# Question 7\n",
    "Eng = int(input(\"Enter English MArks  \"));\n",
    "Isl = int(input(\"Enter islamiat MArks  \"));\n",
    "Maths = int(input(\"Enter maths MArks  \"));\n",
    "Sci = int(input(\"Enter Science MArks  \"));\n",
    "Ur = int(input(\"Enter Urdu MArks  \"));\n",
    "Total_marks = 500;\n",
    "marks_obtained = Eng + Isl + Maths + Sci + Ur;\n",
    "percent = (marks_obtained / Total_marks) * 100;\n",
    "print(percent);\n",
    "if percent <= 100 and percent >= 80:           \n",
    "    print(\"Grade A+\");\n",
    "elif  percent < 80 and percent >= 70:\n",
    "    print(\"Grade A\");\n",
    "elif  percent < 70 and percent >= 60:\n",
    "    print(\"Grade B\");\n",
    "elif  percent < 60 and percent >= 50:\n",
    "    print(\"Grade C\");\n",
    "elif  percent < 50 and percent >= 40:\n",
    "    print(\"Grade D\");\n",
    "elif  percent < 40 and percent >= 33:\n",
    "    print(\"Grade E\");\n",
    "elif  percent < 33 and percent >= 0:\n",
    "    print(\"Grade F\");\n",
    "else:\n",
    "    print(\"Inappropriate Entry\");"
   ]
  },
  {
   "cell_type": "code",
   "execution_count": 5,
   "id": "55aa0d73",
   "metadata": {},
   "outputs": [
    {
     "name": "stdout",
     "output_type": "stream",
     "text": [
      "Enter a value: 4\n",
      "value is Even\n"
     ]
    }
   ],
   "source": [
    "# Question 8\n",
    "num = int(input(\"Enter a value: \"))\n",
    "if (num % 2) == 0:\n",
    "   print(\"value is Even\");\n",
    "else:\n",
    "   print(\"value is Odd\");"
   ]
  },
  {
   "cell_type": "code",
   "execution_count": 6,
   "id": "0f3359f9",
   "metadata": {},
   "outputs": [
    {
     "name": "stdout",
     "output_type": "stream",
     "text": [
      "6\n"
     ]
    }
   ],
   "source": [
    "# Question 9 \n",
    "list1 = [5,4,7,2,9,6]\n",
    "print (len(list1));"
   ]
  },
  {
   "cell_type": "code",
   "execution_count": 7,
   "id": "5521a8b7",
   "metadata": {},
   "outputs": [
    {
     "name": "stdout",
     "output_type": "stream",
     "text": [
      "25\n"
     ]
    }
   ],
   "source": [
    "# Question 10\n",
    "numbers = [1,2,3,4,5,1,4,5]\n",
    "Add = sum(numbers);\n",
    "print(Add);\n"
   ]
  },
  {
   "cell_type": "code",
   "execution_count": 8,
   "id": "3f1950a0",
   "metadata": {},
   "outputs": [
    {
     "name": "stdout",
     "output_type": "stream",
     "text": [
      "9\n"
     ]
    }
   ],
   "source": [
    "# Question 11\n",
    "list1 = [5,4,7,2,9,6]\n",
    "print(max(list1));"
   ]
  },
  {
   "cell_type": "code",
   "execution_count": 9,
   "id": "c6151965",
   "metadata": {},
   "outputs": [
    {
     "name": "stdout",
     "output_type": "stream",
     "text": [
      "1,1,2,3\n"
     ]
    }
   ],
   "source": [
    "# Question 12\n",
    "g = [1,1,2,3,5,8,13,21,34,55,89];\n",
    "print(\"1,1,2,3\");"
   ]
  },
  {
   "cell_type": "code",
   "execution_count": null,
   "id": "5792cd2a",
   "metadata": {},
   "outputs": [],
   "source": []
  }
 ],
 "metadata": {
  "kernelspec": {
   "display_name": "Python 3",
   "language": "python",
   "name": "python3"
  },
  "language_info": {
   "codemirror_mode": {
    "name": "ipython",
    "version": 3
   },
   "file_extension": ".py",
   "mimetype": "text/x-python",
   "name": "python",
   "nbconvert_exporter": "python",
   "pygments_lexer": "ipython3",
   "version": "3.8.8"
  }
 },
 "nbformat": 4,
 "nbformat_minor": 5
}
